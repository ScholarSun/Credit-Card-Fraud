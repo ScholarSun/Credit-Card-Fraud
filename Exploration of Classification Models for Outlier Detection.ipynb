{
 "cells": [
  {
   "cell_type": "markdown",
   "metadata": {},
   "source": [
    "## Model Selection\n",
    "This is a continuation of the credit card fraud detection problem, however we are experimenting with classification models instead of anomaly detection models. I split it up into two different notebooks for clarity.\n",
    "\n",
    "Classification models are fundamentally different from anomaly detection models as they classify new points based on a previously learned profile of positive/normal cases. Thus class imbalance is a huge problem when it comes to these models. We attempt to reduce this by over/undersampling the data to balance the classes. \n",
    "There are a few things to do before we go train the models.\n",
    "\n",
    "To improve our model's accuracy we should:\n",
    "- remove extreme outliers that will influence our boundaries. (IQR method)\n",
    "- try undersampling/oversampling to reduce overfitting of normal cases and reinforce learning of fraudulent cases\n",
    "- consolidate similarly correlated features\n"
   ]
  },
  {
   "cell_type": "code",
   "execution_count": 1,
   "metadata": {},
   "outputs": [],
   "source": [
    "# Import required libraries\n",
    "import numpy as np\n",
    "import pandas as pd\n",
    "import matplotlib.pyplot as plt\n",
    "import seaborn as sns\n",
    "\n",
    "%matplotlib inline "
   ]
  },
  {
   "cell_type": "code",
   "execution_count": 42,
   "metadata": {},
   "outputs": [
    {
     "data": {
      "text/html": [
       "<div>\n",
       "<style scoped>\n",
       "    .dataframe tbody tr th:only-of-type {\n",
       "        vertical-align: middle;\n",
       "    }\n",
       "\n",
       "    .dataframe tbody tr th {\n",
       "        vertical-align: top;\n",
       "    }\n",
       "\n",
       "    .dataframe thead th {\n",
       "        text-align: right;\n",
       "    }\n",
       "</style>\n",
       "<table border=\"1\" class=\"dataframe\">\n",
       "  <thead>\n",
       "    <tr style=\"text-align: right;\">\n",
       "      <th></th>\n",
       "      <th>Time</th>\n",
       "      <th>V1</th>\n",
       "      <th>V2</th>\n",
       "      <th>V3</th>\n",
       "      <th>V4</th>\n",
       "      <th>V5</th>\n",
       "      <th>V6</th>\n",
       "      <th>V7</th>\n",
       "      <th>V8</th>\n",
       "      <th>V9</th>\n",
       "      <th>V10</th>\n",
       "      <th>V11</th>\n",
       "      <th>V12</th>\n",
       "      <th>V13</th>\n",
       "      <th>V14</th>\n",
       "      <th>V15</th>\n",
       "      <th>V16</th>\n",
       "      <th>V17</th>\n",
       "      <th>V18</th>\n",
       "      <th>V19</th>\n",
       "      <th>V20</th>\n",
       "      <th>V21</th>\n",
       "      <th>V22</th>\n",
       "      <th>V23</th>\n",
       "      <th>V24</th>\n",
       "      <th>V25</th>\n",
       "      <th>V26</th>\n",
       "      <th>V27</th>\n",
       "      <th>V28</th>\n",
       "      <th>Amount</th>\n",
       "      <th>Class</th>\n",
       "    </tr>\n",
       "  </thead>\n",
       "  <tbody>\n",
       "    <tr>\n",
       "      <th>0</th>\n",
       "      <td>0.0</td>\n",
       "      <td>-1.359807</td>\n",
       "      <td>-0.072781</td>\n",
       "      <td>2.536347</td>\n",
       "      <td>1.378155</td>\n",
       "      <td>-0.338321</td>\n",
       "      <td>0.462388</td>\n",
       "      <td>0.239599</td>\n",
       "      <td>0.098698</td>\n",
       "      <td>0.363787</td>\n",
       "      <td>0.090794</td>\n",
       "      <td>-0.551600</td>\n",
       "      <td>-0.617801</td>\n",
       "      <td>-0.991390</td>\n",
       "      <td>-0.311169</td>\n",
       "      <td>1.468177</td>\n",
       "      <td>-0.470401</td>\n",
       "      <td>0.207971</td>\n",
       "      <td>0.025791</td>\n",
       "      <td>0.403993</td>\n",
       "      <td>0.251412</td>\n",
       "      <td>-0.018307</td>\n",
       "      <td>0.277838</td>\n",
       "      <td>-0.110474</td>\n",
       "      <td>0.066928</td>\n",
       "      <td>0.128539</td>\n",
       "      <td>-0.189115</td>\n",
       "      <td>0.133558</td>\n",
       "      <td>-0.021053</td>\n",
       "      <td>149.62</td>\n",
       "      <td>0</td>\n",
       "    </tr>\n",
       "    <tr>\n",
       "      <th>1</th>\n",
       "      <td>0.0</td>\n",
       "      <td>1.191857</td>\n",
       "      <td>0.266151</td>\n",
       "      <td>0.166480</td>\n",
       "      <td>0.448154</td>\n",
       "      <td>0.060018</td>\n",
       "      <td>-0.082361</td>\n",
       "      <td>-0.078803</td>\n",
       "      <td>0.085102</td>\n",
       "      <td>-0.255425</td>\n",
       "      <td>-0.166974</td>\n",
       "      <td>1.612727</td>\n",
       "      <td>1.065235</td>\n",
       "      <td>0.489095</td>\n",
       "      <td>-0.143772</td>\n",
       "      <td>0.635558</td>\n",
       "      <td>0.463917</td>\n",
       "      <td>-0.114805</td>\n",
       "      <td>-0.183361</td>\n",
       "      <td>-0.145783</td>\n",
       "      <td>-0.069083</td>\n",
       "      <td>-0.225775</td>\n",
       "      <td>-0.638672</td>\n",
       "      <td>0.101288</td>\n",
       "      <td>-0.339846</td>\n",
       "      <td>0.167170</td>\n",
       "      <td>0.125895</td>\n",
       "      <td>-0.008983</td>\n",
       "      <td>0.014724</td>\n",
       "      <td>2.69</td>\n",
       "      <td>0</td>\n",
       "    </tr>\n",
       "    <tr>\n",
       "      <th>2</th>\n",
       "      <td>1.0</td>\n",
       "      <td>-1.358354</td>\n",
       "      <td>-1.340163</td>\n",
       "      <td>1.773209</td>\n",
       "      <td>0.379780</td>\n",
       "      <td>-0.503198</td>\n",
       "      <td>1.800499</td>\n",
       "      <td>0.791461</td>\n",
       "      <td>0.247676</td>\n",
       "      <td>-1.514654</td>\n",
       "      <td>0.207643</td>\n",
       "      <td>0.624501</td>\n",
       "      <td>0.066084</td>\n",
       "      <td>0.717293</td>\n",
       "      <td>-0.165946</td>\n",
       "      <td>2.345865</td>\n",
       "      <td>-2.890083</td>\n",
       "      <td>1.109969</td>\n",
       "      <td>-0.121359</td>\n",
       "      <td>-2.261857</td>\n",
       "      <td>0.524980</td>\n",
       "      <td>0.247998</td>\n",
       "      <td>0.771679</td>\n",
       "      <td>0.909412</td>\n",
       "      <td>-0.689281</td>\n",
       "      <td>-0.327642</td>\n",
       "      <td>-0.139097</td>\n",
       "      <td>-0.055353</td>\n",
       "      <td>-0.059752</td>\n",
       "      <td>378.66</td>\n",
       "      <td>0</td>\n",
       "    </tr>\n",
       "    <tr>\n",
       "      <th>3</th>\n",
       "      <td>1.0</td>\n",
       "      <td>-0.966272</td>\n",
       "      <td>-0.185226</td>\n",
       "      <td>1.792993</td>\n",
       "      <td>-0.863291</td>\n",
       "      <td>-0.010309</td>\n",
       "      <td>1.247203</td>\n",
       "      <td>0.237609</td>\n",
       "      <td>0.377436</td>\n",
       "      <td>-1.387024</td>\n",
       "      <td>-0.054952</td>\n",
       "      <td>-0.226487</td>\n",
       "      <td>0.178228</td>\n",
       "      <td>0.507757</td>\n",
       "      <td>-0.287924</td>\n",
       "      <td>-0.631418</td>\n",
       "      <td>-1.059647</td>\n",
       "      <td>-0.684093</td>\n",
       "      <td>1.965775</td>\n",
       "      <td>-1.232622</td>\n",
       "      <td>-0.208038</td>\n",
       "      <td>-0.108300</td>\n",
       "      <td>0.005274</td>\n",
       "      <td>-0.190321</td>\n",
       "      <td>-1.175575</td>\n",
       "      <td>0.647376</td>\n",
       "      <td>-0.221929</td>\n",
       "      <td>0.062723</td>\n",
       "      <td>0.061458</td>\n",
       "      <td>123.50</td>\n",
       "      <td>0</td>\n",
       "    </tr>\n",
       "    <tr>\n",
       "      <th>4</th>\n",
       "      <td>2.0</td>\n",
       "      <td>-1.158233</td>\n",
       "      <td>0.877737</td>\n",
       "      <td>1.548718</td>\n",
       "      <td>0.403034</td>\n",
       "      <td>-0.407193</td>\n",
       "      <td>0.095921</td>\n",
       "      <td>0.592941</td>\n",
       "      <td>-0.270533</td>\n",
       "      <td>0.817739</td>\n",
       "      <td>0.753074</td>\n",
       "      <td>-0.822843</td>\n",
       "      <td>0.538196</td>\n",
       "      <td>1.345852</td>\n",
       "      <td>-1.119670</td>\n",
       "      <td>0.175121</td>\n",
       "      <td>-0.451449</td>\n",
       "      <td>-0.237033</td>\n",
       "      <td>-0.038195</td>\n",
       "      <td>0.803487</td>\n",
       "      <td>0.408542</td>\n",
       "      <td>-0.009431</td>\n",
       "      <td>0.798278</td>\n",
       "      <td>-0.137458</td>\n",
       "      <td>0.141267</td>\n",
       "      <td>-0.206010</td>\n",
       "      <td>0.502292</td>\n",
       "      <td>0.219422</td>\n",
       "      <td>0.215153</td>\n",
       "      <td>69.99</td>\n",
       "      <td>0</td>\n",
       "    </tr>\n",
       "  </tbody>\n",
       "</table>\n",
       "</div>"
      ],
      "text/plain": [
       "   Time        V1        V2        V3        V4        V5        V6        V7  \\\n",
       "0   0.0 -1.359807 -0.072781  2.536347  1.378155 -0.338321  0.462388  0.239599   \n",
       "1   0.0  1.191857  0.266151  0.166480  0.448154  0.060018 -0.082361 -0.078803   \n",
       "2   1.0 -1.358354 -1.340163  1.773209  0.379780 -0.503198  1.800499  0.791461   \n",
       "3   1.0 -0.966272 -0.185226  1.792993 -0.863291 -0.010309  1.247203  0.237609   \n",
       "4   2.0 -1.158233  0.877737  1.548718  0.403034 -0.407193  0.095921  0.592941   \n",
       "\n",
       "         V8        V9       V10       V11       V12       V13       V14  \\\n",
       "0  0.098698  0.363787  0.090794 -0.551600 -0.617801 -0.991390 -0.311169   \n",
       "1  0.085102 -0.255425 -0.166974  1.612727  1.065235  0.489095 -0.143772   \n",
       "2  0.247676 -1.514654  0.207643  0.624501  0.066084  0.717293 -0.165946   \n",
       "3  0.377436 -1.387024 -0.054952 -0.226487  0.178228  0.507757 -0.287924   \n",
       "4 -0.270533  0.817739  0.753074 -0.822843  0.538196  1.345852 -1.119670   \n",
       "\n",
       "        V15       V16       V17       V18       V19       V20       V21  \\\n",
       "0  1.468177 -0.470401  0.207971  0.025791  0.403993  0.251412 -0.018307   \n",
       "1  0.635558  0.463917 -0.114805 -0.183361 -0.145783 -0.069083 -0.225775   \n",
       "2  2.345865 -2.890083  1.109969 -0.121359 -2.261857  0.524980  0.247998   \n",
       "3 -0.631418 -1.059647 -0.684093  1.965775 -1.232622 -0.208038 -0.108300   \n",
       "4  0.175121 -0.451449 -0.237033 -0.038195  0.803487  0.408542 -0.009431   \n",
       "\n",
       "        V22       V23       V24       V25       V26       V27       V28  \\\n",
       "0  0.277838 -0.110474  0.066928  0.128539 -0.189115  0.133558 -0.021053   \n",
       "1 -0.638672  0.101288 -0.339846  0.167170  0.125895 -0.008983  0.014724   \n",
       "2  0.771679  0.909412 -0.689281 -0.327642 -0.139097 -0.055353 -0.059752   \n",
       "3  0.005274 -0.190321 -1.175575  0.647376 -0.221929  0.062723  0.061458   \n",
       "4  0.798278 -0.137458  0.141267 -0.206010  0.502292  0.219422  0.215153   \n",
       "\n",
       "   Amount  Class  \n",
       "0  149.62      0  \n",
       "1    2.69      0  \n",
       "2  378.66      0  \n",
       "3  123.50      0  \n",
       "4   69.99      0  "
      ]
     },
     "metadata": {},
     "output_type": "display_data"
    },
    {
     "name": "stdout",
     "output_type": "stream",
     "text": [
      "Datafrme dimensions: (284807, 31)\n"
     ]
    }
   ],
   "source": [
    "# Display the dataframe\n",
    "def show_all(df):\n",
    "    with pd.option_context(\"display.max_rows\", 1000, \"display.max_columns\", 1000): # Displays code, with meaning cleansup try/catch\n",
    "        display(df)\n",
    "\n",
    "# Read and copy data\n",
    "df_raw = pd.read_csv('data/creditcard.csv')\n",
    "df = df_raw.copy()\n",
    "show_all(df.head())\n",
    "\n",
    "print('Datafrme dimensions: {}'.format(df.shape))\n"
   ]
  },
  {
   "cell_type": "markdown",
   "metadata": {},
   "source": [
    "## Training/Test Split\n",
    "We used a stratified split to split the data into 80% training and 20% validation set. We ensure that each set has the same percentage of outliers. "
   ]
  },
  {
   "cell_type": "code",
   "execution_count": 43,
   "metadata": {},
   "outputs": [
    {
     "name": "stdout",
     "output_type": "stream",
     "text": [
      "Train: [  9341 210529  51525 ... 224660 206178  99525] Test: [ 32255 171386 198944 ... 138758 212696 203581]\n",
      "Train: [ 10301  84176    390 ...  13070 138218 148701] Test: [180911  84197 166643 ...  70732 169252 150551]\n",
      "Train: [ 85107 252882  60427 ... 258430  26954  34834] Test: [195123 215525  81858 ... 248741  73553 173385]\n",
      "Train: [ 47477 173926 233851 ... 106865 184772 135086] Test: [137109 254383 233197 ... 129490 157294 200980]\n",
      "Train: [260386  93305 221277 ...  77793  80098  33334] Test: [103563 246055 269160 ... 134382 258788  88740]\n",
      "\n",
      "Valid: [16420  1485 54419 ... 11485  1934 18906] Test: [ 8210 20417 52870 ... 55707 21281 22135]\n",
      "Valid: [45275 52593 29443 ... 23919 20285  5194] Test: [22037 53930 46883 ... 29619 43887 47605]\n",
      "Valid: [14599  8440  8935 ... 47365  5253 17354] Test: [12941 27735 34378 ... 39194  2859 37243]\n",
      "Valid: [28351 16809 12316 ... 17296 27041   894] Test: [46732 39453 11121 ... 34015  2447  6242]\n",
      "Valid: [21409 39009 11200 ... 53573 54421  1514] Test: [ 9579 10809 47711 ... 48234 42930 23104]\n",
      "\n",
      "Training set dimensions: (227845, 30)\n",
      "Validation set dimensions: (28481, 30)\n",
      "Test set dimensions: (28481, 30)\n",
      "Valid/test block dimensions: (56962, 30)\n"
     ]
    }
   ],
   "source": [
    "from sklearn.model_selection import train_test_split\n",
    "from sklearn.model_selection import StratifiedShuffleSplit\n",
    "from sklearn import preprocessing\n",
    "\n",
    "# Scale features\n",
    "df[['Amount','Time']] = preprocessing.scale(df[['Amount','Time']])\n",
    "\n",
    "# Split into X and y\n",
    "df_y, df_x = df['Class'], df.drop('Class', axis=1)\n",
    "\n",
    "# Train & Test sets\n",
    "sss = StratifiedShuffleSplit(n_splits=5, test_size=0.2, random_state=1)\n",
    "sss2 = StratifiedShuffleSplit(n_splits=5, test_size=0.5, random_state=1)\n",
    "\n",
    "for train_index, test_index in sss.split(df_x, df_y):\n",
    "    print(\"Train:\", train_index, \"Test:\", test_index)\n",
    "    X_train, X_v = df_x.iloc[train_index], df_x.iloc[test_index]\n",
    "    y_train, y_v = df_y.iloc[train_index], df_y.iloc[test_index]\n",
    "\n",
    "# Copy training blocks before valid/test split\n",
    "X_tBlock, y_tBlock = X_v.copy(), y_v.copy()\n",
    "print()\n",
    "\n",
    "for valid_index, test2_index in sss2.split(X_v,y_v):\n",
    "    print(\"Valid:\", valid_index, \"Test:\", test2_index)\n",
    "    X_valid, X_test = X_v.iloc[valid_index], X_v.iloc[test2_index]\n",
    "    y_valid, y_test = y_v.iloc[valid_index], y_v.iloc[test2_index]\n",
    "\n",
    "print('\\nTraining set dimensions: {}'.format(X_train.shape))\n",
    "print('Validation set dimensions: {}'.format(X_valid.shape))\n",
    "print('Test set dimensions: {}'.format(X_test.shape))\n",
    "print('Valid/test block dimensions: {}'.format(X_tBlock.shape))\n",
    "\n",
    "train_block = pd.concat([X_train,y_train],axis = 1)"
   ]
  },
  {
   "cell_type": "markdown",
   "metadata": {},
   "source": [
    "## Random Undersampling"
   ]
  },
  {
   "cell_type": "code",
   "execution_count": 40,
   "metadata": {},
   "outputs": [
    {
     "name": "stdout",
     "output_type": "stream",
     "text": [
      "(886, 31)\n"
     ]
    }
   ],
   "source": [
    "# Random undersampling\n",
    "df = df.sample(frac=1)\n",
    "\n",
    "# amount of fraud classes 492 rows.\n",
    "fraud_df = train_block.loc[df['Class'] == 1]\n",
    "non_fraud_df = train_block.loc[train_block['Class'] == 0][:492]\n",
    "\n",
    "tmp_df = pd.concat([fraud_df, non_fraud_df])\n",
    "\n",
    "# Shuffle dataframe rows\n",
    "df_undersampled = tmp_df.sample(frac=1, random_state=11)\n",
    "\n",
    "print(df_undersampled.shape)"
   ]
  },
  {
   "cell_type": "markdown",
   "metadata": {},
   "source": [
    "## SMOTE Oversampling"
   ]
  },
  {
   "cell_type": "code",
   "execution_count": 5,
   "metadata": {},
   "outputs": [
    {
     "name": "stdout",
     "output_type": "stream",
     "text": [
      "Resampled dataset shape Counter({0: 227451, 1: 227451})\n"
     ]
    }
   ],
   "source": [
    "# SMOTE\n",
    "from imblearn.over_sampling import SMOTE\n",
    "from collections import Counter\n",
    "def oversample(xtr,ytr,ref):\n",
    "    sm = SMOTE(random_state = 42)\n",
    "    X_res, y_res = sm.fit_resample(xtr, ytr)\n",
    "    print('Resampled dataset shape %s' % Counter(y_res))\n",
    "    os_df_x = pd.DataFrame(X_res)\n",
    "    os_df_y = pd.DataFrame(y_res)\n",
    "    os_df = pd.concat([os_df_x,os_df_y], axis=1)\n",
    "    os_df.columns = ref.columns\n",
    "    #print(os_df)\n",
    "    return os_df\n",
    "\n",
    "os_df = oversample(X_train,y_train, df)"
   ]
  },
  {
   "cell_type": "markdown",
   "metadata": {},
   "source": [
    "## IQR Method\n",
    "We can process our data such that we remove extreme outliers that could potentially skew our classifier."
   ]
  },
  {
   "cell_type": "code",
   "execution_count": 6,
   "metadata": {
    "scrolled": true
   },
   "outputs": [
    {
     "data": {
      "image/png": "[encoded data removed]",
      "text/plain": [
       "<Figure size 720x576 with 2 Axes>"
      ]
     },
     "metadata": {
      "needs_background": "light"
     },
     "output_type": "display_data"
    }
   ],
   "source": [
    "from scipy import stats\n",
    "\n",
    "corr = np.round(stats.spearmanr(df_undersampled).correlation, 4)\n",
    "fig, ax = plt.subplots(figsize=(10,8))\n",
    "g = sns.heatmap(corr, ax=ax,cmap='coolwarm_r')\n",
    "g.set_yticklabels(df_undersampled.columns, rotation=0)\n",
    "g.set_xticklabels(df_undersampled.columns, rotation=90)\n",
    "None"
   ]
  },
  {
   "cell_type": "code",
   "execution_count": 7,
   "metadata": {},
   "outputs": [
    {
     "data": {
      "image/png": "[encoded data removed]",
      "text/plain": [
       "<Figure size 1440x288 with 4 Axes>"
      ]
     },
     "metadata": {
      "needs_background": "light"
     },
     "output_type": "display_data"
    }
   ],
   "source": [
    "f, axes = plt.subplots(ncols=4, figsize=(20,4))\n",
    "\n",
    "# Negative Correlations with our Class (The lower our feature value the more likely it will be a fraud transaction)\n",
    "sns.boxplot(x=\"Class\", y=\"V3\", data=df_undersampled, palette= \"Set1\", ax=axes[0])\n",
    "axes[0].set_title('V3 vs Class Negative Correlation')\n",
    "\n",
    "sns.boxplot(x=\"Class\", y=\"V14\", data=df_undersampled, palette=\"Set1\", ax=axes[1])\n",
    "axes[1].set_title('V14 vs Class Negative Correlation')\n",
    "\n",
    "\n",
    "sns.boxplot(x=\"Class\", y=\"V12\", data=df_undersampled, palette=\"Set1\", ax=axes[2])\n",
    "axes[2].set_title('V12 vs Class Negative Correlation')\n",
    "\n",
    "\n",
    "sns.boxplot(x=\"Class\", y=\"V10\", data=df_undersampled, palette=\"Set1\", ax=axes[3])\n",
    "axes[3].set_title('V10 vs Class Negative Correlation')\n",
    "\n",
    "plt.show()"
   ]
  },
  {
   "cell_type": "code",
   "execution_count": 8,
   "metadata": {},
   "outputs": [
    {
     "data": {
      "image/png": "[encoded data removed]",
      "text/plain": [
       "<Figure size 1440x288 with 4 Axes>"
      ]
     },
     "metadata": {
      "needs_background": "light"
     },
     "output_type": "display_data"
    }
   ],
   "source": [
    "f, axes = plt.subplots(ncols=4, figsize=(20,4))\n",
    "\n",
    "# Negative Correlations with our Class (The lower our feature value the more likely it will be a fraud transaction)\n",
    "sns.boxplot(x=\"Class\", y=\"V2\", data=df_undersampled, palette= \"Set1\", ax=axes[0])\n",
    "axes[0].set_title('V2 vs Class Positive Correlation')\n",
    "\n",
    "sns.boxplot(x=\"Class\", y=\"V4\", data=df_undersampled, palette=\"Set1\", ax=axes[1])\n",
    "axes[1].set_title('V4 vs Class Positive Correlation')\n",
    "\n",
    "\n",
    "sns.boxplot(x=\"Class\", y=\"V11\", data=df_undersampled, palette=\"Set1\", ax=axes[2])\n",
    "axes[2].set_title('V11 vs Class Positive Correlation')\n",
    "\n",
    "sns.boxplot(x=\"Class\", y=\"V21\", data=df_undersampled, palette=\"Set1\", ax=axes[3])\n",
    "axes[3].set_title('V21 vs Class Positive Correlation')\n",
    "\n",
    "plt.show()"
   ]
  },
  {
   "cell_type": "code",
   "execution_count": 48,
   "metadata": {},
   "outputs": [],
   "source": [
    "def remove_outliers(df,col_name,supress):\n",
    "    v_fraud = df[col_name].loc[df['Class'] == 1].values\n",
    "    q25, q75 = np.percentile(v_fraud, 25), np.percentile(v_fraud, 75)\n",
    "    # Interquartile range\n",
    "    v_iqr = q75 - q25\n",
    "    # Calculate cutoffs\n",
    "    v_cut_off = v_iqr * 1.5\n",
    "    v_lower, v_upper = q25 - v_cut_off, q75 + v_cut_off\n",
    "    # Find extreme outliers\n",
    "    outliers = [x for x in v_fraud if x < v_lower or x > v_upper]\n",
    "    df = df.drop(df[(df[col_name] > v_upper) | (df[col_name] < v_lower)].index)\n",
    "    # Output\n",
    "    if not supress:\n",
    "        print('Quartile 25: {} | Quartile 75: {}'.format(q25, q75))\n",
    "        print('iqr: {}'.format(v_iqr))\n",
    "        print('Cut Off: {}'.format(v_cut_off))\n",
    "        print('{} Lower: {}'.format(col_name,v_lower))\n",
    "        print('{} Upper: {}'.format(col_name, v_upper))\n",
    "        print('Feature {} Outliers for Fraud Cases: {}'.format(col_name,len(outliers)))\n",
    "        print('Outliers:{}'.format(outliers))\n",
    "        print('----' * 44)\n",
    "    return df"
   ]
  },
  {
   "cell_type": "code",
   "execution_count": 49,
   "metadata": {},
   "outputs": [],
   "source": [
    "def split(df):\n",
    "    df_y, df_x = df['Class'], df.drop('Class', axis=1)\n",
    "    return df_x, df_y"
   ]
  },
  {
   "cell_type": "code",
   "execution_count": 50,
   "metadata": {},
   "outputs": [
    {
     "name": "stdout",
     "output_type": "stream",
     "text": [
      "Quartile 25: -9.576561369479553 | Quartile 75: -4.299187585487335\n",
      "iqr: 5.277373783992218\n",
      "Cut Off: 7.9160606759883265\n",
      "V14 Lower: -17.49262204546788\n",
      "V14 Upper: 3.6168730905009916\n",
      "Feature V14 Outliers for Fraud Cases: 6\n",
      "Outliers:[-18.8220867423816, -17.7216383537133, -18.4937733551053, -18.049997689859396, -17.6206343516773, -19.2143254902614]\n",
      "--------------------------------------------------------------------------------------------------------------------------------------------------------------------------------\n",
      "Quartile 25: -8.657459534535308 | Quartile 75: -2.99978221723789\n",
      "iqr: 5.657677317297418\n",
      "Cut Off: 8.486515975946126\n",
      "V12 Lower: -17.143975510481432\n",
      "V12 Upper: 5.486733758708237\n",
      "Feature V12 Outliers for Fraud Cases: 8\n",
      "Outliers:[-17.1829184301947, -17.631606313870698, -17.1504052507291, -18.4311310279993, -18.553697009645802, -18.047596570821604, -17.2286622386187, -17.7691434633638]\n",
      "--------------------------------------------------------------------------------------------------------------------------------------------------------------------------------\n",
      "Quartile 25: -7.6793956650532955 | Quartile 75: -2.502327410884358\n",
      "iqr: 5.177068254168938\n",
      "Cut Off: 7.765602381253407\n",
      "V10 Lower: -15.444998046306702\n",
      "V10 Upper: 5.263274970369049\n",
      "Feature V10 Outliers for Fraud Cases: 18\n",
      "Outliers:[-16.7460441053944, -22.1870885620007, -17.141513641289198, -19.836148851696, -16.6496281595399, -22.1870885620007, -15.563791338730098, -18.9132433348732, -20.949191554361104, -16.3035376590131, -15.563791338730098, -18.2711681738888, -16.2556117491401, -16.6011969664137, -22.1870885620007, -22.1870885620007, -23.2282548357516, -24.403184969972802]\n",
      "--------------------------------------------------------------------------------------------------------------------------------------------------------------------------------\n",
      "Quartile 25: -8.427478205509878 | Quartile 75: -2.3347601350331075\n",
      "iqr: 6.092718070476771\n",
      "Cut Off: 9.139077105715156\n",
      "V3 Lower: -17.566555311225034\n",
      "V3 Upper: 6.8043169706820485\n",
      "Feature V3 Outliers for Fraud Cases: 48\n",
      "Outliers:[-23.0090029136283, -18.256576111808, -24.098871851647, -23.270630523285604, -31.103684824581197, -30.5586968214292, -30.1773174564996, -21.402916813139104, -18.256576111808, -20.1346128135864, -24.643818777122604, -23.736443410521602, -17.6810718207918, -26.278700586614498, -22.3385905133352, -19.629515251817104, -21.872317364456602, -22.209874815521, -25.1887729688701, -20.134992104854, -23.5539329441267, -30.013712485724803, -25.7337337663194, -30.1773174564996, -17.6810718207918, -18.572307456296002, -17.712632368862103, -20.4919522106577, -22.801237694778198, -22.8652284959099, -19.7393862972953, -20.4919522106577, -21.405835744128, -28.923755945104, -19.947726046163, -19.0385383213549, -24.667741248573197, -19.5750661905691, -30.1773174564996, -30.1773174564996, -26.823672913511402, -22.464082746487602, -22.8046864614815, -25.3902293121699, -28.4074244550982, -20.363885973914897, -19.818981808527898, -26.871338779713604]\n",
      "--------------------------------------------------------------------------------------------------------------------------------------------------------------------------------\n",
      "Quartile 25: 2.383783341643327 | Quartile 75: 6.3177321924291\n",
      "iqr: 3.9339488507857725\n",
      "Cut Off: 5.900923276178659\n",
      "V4 Lower: -3.517139934535332\n",
      "V4 Upper: 12.218655468607759\n",
      "Feature V4 Outliers for Fraud Cases: 0\n",
      "Outliers:[]\n",
      "--------------------------------------------------------------------------------------------------------------------------------------------------------------------------------\n",
      "Quartile 25: 2.0611381585500226 | Quartile 75: 5.2735947890303105\n",
      "iqr: 3.212456630480288\n",
      "Cut Off: 4.818684945720432\n",
      "V11 Lower: -2.7575467871704094\n",
      "V11 Upper: 10.092279734750743\n",
      "Feature V11 Outliers for Fraud Cases: 9\n",
      "Outliers:[11.6197234753825, 10.5452629545898, 11.277920727806698, 11.6692047358121, 10.187587324166401, 11.228470279576001, 11.152490598583698, 10.446846814514, 12.018913181619899]\n",
      "--------------------------------------------------------------------------------------------------------------------------------------------------------------------------------\n",
      "Quartile 25: 0.013061245462958724 | Quartile 75: 1.22618504491524\n",
      "iqr: 1.2131237994522814\n",
      "Cut Off: 1.819685699178422\n",
      "V21 Lower: -1.8066244537154634\n",
      "V21 Upper: 3.045870744093662\n",
      "Feature V21 Outliers for Fraud Cases: 42\n",
      "Outliers:[-2.3436735942979703, -8.75569832116533, 10.0059980130045, -4.35221313065903, -2.33611095619483, 27.2028391573154, -2.3568962794623, -3.4740965032697098, -2.0896096332232, 27.2028391573154, -2.3623449275188397, -12.615022864421501, -2.1826919456095504, 27.2028391573154, -8.75569832116533, -2.4759622294568797, 8.28043932580154, 27.2028391573154, -8.22887409813848, -9.11042257588182, 5.556642391336429, -4.88498262418118, -2.36683606243662, 27.2028391573154, -5.498771680106291, 8.66466242953635, -1.97719619445615, 5.45367185347674, -4.96947772242457, -5.68899027177143, -6.38913186553574, -2.3194794620803396, -4.3004318663182595, -8.75569832116533, -8.75569832116533, 6.21551399149032, -2.35063374523783, -16.9220157786505, -1.9980912281201597, 3.0580818384639703, -2.4571448725170697, -21.453736278146803]\n",
      "--------------------------------------------------------------------------------------------------------------------------------------------------------------------------------\n",
      "Quartile 25: 1.1805337593646352 | Quartile 75: 4.807923980076733\n",
      "iqr: 3.627390220712098\n",
      "Cut Off: 5.441085331068147\n",
      "V2 Lower: -4.2605515717035125\n",
      "V2 Upper: 10.249009311144881\n",
      "Feature V2 Outliers for Fraud Cases: 43\n",
      "Outliers:[12.3739891389716, 12.9305051249875, 16.7133892350242, 16.4345245512223, 16.497471901867, 11.586380519818402, -6.976420007546411, -4.8144607395562105, 12.3525186682391, 13.208904284417601, -7.4490151587267395, 14.044566781510598, 12.785970638297998, 10.4325276778611, 12.785970638297998, 16.6978316913154, 13.4873857909274, 12.6521968313004, 12.785970638297998, 16.1557014298057, 13.7659421584186, 16.497471901867, -8.402153677689151, 12.785970638297998, 14.7063346696674, 15.53613332478, 11.614800542586698, 12.785970638297998, 15.598192662555402, -7.15904171709445, 12.572117853538499, 10.5586001882538, 12.864988563015, 16.497471901867, 16.497471901867, 14.323253809723301, 12.095893225929899, 19.167239010306197, 15.3658043803315, 10.8196653713117, 10.5417508026636, -5.1983601992332895, 21.4672029942752]\n",
      "--------------------------------------------------------------------------------------------------------------------------------------------------------------------------------\n",
      "Quartile 25: -9.576561369479553 | Quartile 75: -4.299187585487335\n",
      "iqr: 5.277373783992218\n",
      "Cut Off: 7.9160606759883265\n",
      "V14 Lower: -17.49262204546788\n",
      "V14 Upper: 3.6168730905009916\n",
      "Feature V14 Outliers for Fraud Cases: 6\n",
      "Outliers:[-18.049997689859396, -17.7216383537133, -18.4937733551053, -19.2143254902614, -18.8220867423816, -17.6206343516773]\n",
      "--------------------------------------------------------------------------------------------------------------------------------------------------------------------------------\n",
      "Quartile 25: -8.657459534535308 | Quartile 75: -2.99978221723789\n",
      "iqr: 5.657677317297418\n",
      "Cut Off: 8.486515975946126\n",
      "V12 Lower: -17.143975510481432\n",
      "V12 Upper: 5.486733758708237\n",
      "Feature V12 Outliers for Fraud Cases: 8\n",
      "Outliers:[-18.047596570821604, -17.2286622386187, -17.1504052507291, -17.7691434633638, -18.4311310279993, -17.631606313870698, -17.1829184301947, -18.553697009645802]\n",
      "--------------------------------------------------------------------------------------------------------------------------------------------------------------------------------\n",
      "Quartile 25: -7.6793956650532955 | Quartile 75: -2.502327410884358\n",
      "iqr: 5.177068254168938\n",
      "Cut Off: 7.765602381253407\n",
      "V10 Lower: -15.444998046306702\n",
      "V10 Upper: 5.263274970369049\n",
      "Feature V10 Outliers for Fraud Cases: 18\n",
      "Outliers:[-18.9132433348732, -22.1870885620007, -17.141513641289198, -24.403184969972802, -23.2282548357516, -15.563791338730098, -16.2556117491401, -16.3035376590131, -19.836148851696, -16.6011969664137, -22.1870885620007, -22.1870885620007, -20.949191554361104, -22.1870885620007, -18.2711681738888, -16.6496281595399, -15.563791338730098, -16.7460441053944]\n",
      "--------------------------------------------------------------------------------------------------------------------------------------------------------------------------------\n"
     ]
    },
    {
     "name": "stdout",
     "output_type": "stream",
     "text": [
      "Quartile 25: -8.427478205509878 | Quartile 75: -2.3347601350331075\n",
      "iqr: 6.092718070476771\n",
      "Cut Off: 9.139077105715156\n",
      "V3 Lower: -17.566555311225034\n",
      "V3 Upper: 6.8043169706820485\n",
      "Feature V3 Outliers for Fraud Cases: 48\n",
      "Outliers:[-22.801237694778198, -28.923755945104, -30.1773174564996, -19.629515251817104, -24.667741248573197, -22.464082746487602, -26.278700586614498, -26.871338779713604, -23.736443410521602, -26.823672913511402, -17.6810718207918, -25.3902293121699, -20.4919522106577, -25.1887729688701, -30.5586968214292, -23.270630523285604, -21.872317364456602, -22.3385905133352, -24.643818777122604, -18.256576111808, -31.103684824581197, -19.0385383213549, -19.7393862972953, -18.572307456296002, -22.209874815521, -17.6810718207918, -19.5750661905691, -21.402916813139104, -30.1773174564996, -30.1773174564996, -23.5539329441267, -21.405835744128, -22.8652284959099, -20.1346128135864, -20.363885973914897, -25.7337337663194, -30.013712485724803, -23.0090029136283, -28.4074244550982, -17.712632368862103, -19.818981808527898, -30.1773174564996, -19.947726046163, -22.8046864614815, -20.134992104854, -20.4919522106577, -18.256576111808, -24.098871851647]\n",
      "--------------------------------------------------------------------------------------------------------------------------------------------------------------------------------\n",
      "Quartile 25: 2.383783341643327 | Quartile 75: 6.3177321924291\n",
      "iqr: 3.9339488507857725\n",
      "Cut Off: 5.900923276178659\n",
      "V4 Lower: -3.517139934535332\n",
      "V4 Upper: 12.218655468607759\n",
      "Feature V4 Outliers for Fraud Cases: 0\n",
      "Outliers:[]\n",
      "--------------------------------------------------------------------------------------------------------------------------------------------------------------------------------\n",
      "Quartile 25: 2.0611381585500226 | Quartile 75: 5.2735947890303105\n",
      "iqr: 3.212456630480288\n",
      "Cut Off: 4.818684945720432\n",
      "V11 Lower: -2.7575467871704094\n",
      "V11 Upper: 10.092279734750743\n",
      "Feature V11 Outliers for Fraud Cases: 9\n",
      "Outliers:[11.152490598583698, 11.228470279576001, 10.446846814514, 11.277920727806698, 11.6692047358121, 12.018913181619899, 10.187587324166401, 11.6197234753825, 10.5452629545898]\n",
      "--------------------------------------------------------------------------------------------------------------------------------------------------------------------------------\n",
      "Quartile 25: 0.013061245462958724 | Quartile 75: 1.22618504491524\n",
      "iqr: 1.2131237994522814\n",
      "Cut Off: 1.819685699178422\n",
      "V21 Lower: -1.8066244537154634\n",
      "V21 Upper: 3.045870744093662\n",
      "Feature V21 Outliers for Fraud Cases: 42\n",
      "Outliers:[-1.9980912281201597, -8.22887409813848, -5.68899027177143, -8.75569832116533, 8.66466242953635, 27.2028391573154, 27.2028391573154, -3.4740965032697098, -2.3194794620803396, 5.556642391336429, 6.21551399149032, -21.453736278146803, -2.33611095619483, -16.9220157786505, -2.4571448725170697, -2.0896096332232, -2.3436735942979703, -2.3623449275188397, -2.3568962794623, 3.0580818384639703, 5.45367185347674, -4.96947772242457, -6.38913186553574, -4.88498262418118, -12.615022864421501, -4.3004318663182595, 27.2028391573154, -8.75569832116533, 10.0059980130045, -8.75569832116533, -2.36683606243662, -9.11042257588182, -4.35221313065903, 27.2028391573154, -5.498771680106291, -2.4759622294568797, -8.75569832116533, -1.97719619445615, -2.35063374523783, -2.1826919456095504, 8.28043932580154, 27.2028391573154]\n",
      "--------------------------------------------------------------------------------------------------------------------------------------------------------------------------------\n",
      "Quartile 25: 1.1805337593646352 | Quartile 75: 4.807923980076733\n",
      "iqr: 3.627390220712098\n",
      "Cut Off: 5.441085331068147\n",
      "V2 Lower: -4.2605515717035125\n",
      "V2 Upper: 10.249009311144881\n",
      "Feature V2 Outliers for Fraud Cases: 43\n",
      "Outliers:[14.7063346696674, 15.598192662555402, 16.497471901867, 12.785970638297998, 12.785970638297998, 10.4325276778611, 10.5586001882538, -7.4490151587267395, 12.095893225929899, 14.044566781510598, 21.4672029942752, 14.323253809723301, 19.167239010306197, -4.8144607395562105, 13.4873857909274, 16.4345245512223, 13.208904284417601, 16.7133892350242, 12.572117853538499, -8.402153677689151, 11.614800542586698, 16.6978316913154, 12.864988563015, 12.785970638297998, 11.586380519818402, 16.497471901867, 16.497471901867, 12.6521968313004, 15.53613332478, 12.3525186682391, 10.8196653713117, 12.785970638297998, 13.7659421584186, 16.1557014298057, 12.3739891389716, 15.3658043803315, -6.976420007546411, 10.5417508026636, 16.497471901867, 12.785970638297998, -7.15904171709445, -5.1983601992332895, 12.9305051249875]\n",
      "--------------------------------------------------------------------------------------------------------------------------------------------------------------------------------\n",
      "Resampled dataset shape Counter({0: 224344, 1: 224344})\n"
     ]
    }
   ],
   "source": [
    "# Remove outliers in these columns\n",
    "colnames = ['V14','V12','V10','V3','V4','V11','V21','V2']\n",
    "\n",
    "# Supress outputs for oversampled for readability\n",
    "for col in colnames:\n",
    "    df_os_removed = remove_outliers(os_df, col, True)\n",
    "\n",
    "for col in colnames:\n",
    "    df_under_removed = remove_outliers(df_undersampled, col, False)\n",
    "\n",
    "for col in colnames:\n",
    "    df_removed = remove_outliers(train_block, col, False)\n",
    "\n",
    "rex,rey = split(df_removed)    \n",
    "rt = oversample(rex,rey,df)"
   ]
  },
  {
   "cell_type": "markdown",
   "metadata": {},
   "source": [
    "## Build Training Sets / Setup Metrics\n",
    "Here we test a series of different training data.\n",
    "- Oversampled data \n",
    "- Undersampled data\n",
    "- Oversampled with outliers removed\n",
    "- Undersampled with outliers removed"
   ]
  },
  {
   "cell_type": "code",
   "execution_count": 12,
   "metadata": {},
   "outputs": [],
   "source": [
    "X_train_os, y_train_os = split(os_df)\n",
    "X_train_osr, y_train_osr = split(df_os_removed)\n",
    "\n",
    "X_train_us, y_train_us = split(df_undersampled)\n",
    "X_train_usr, y_train_usr = split(df_under_removed)"
   ]
  },
  {
   "cell_type": "code",
   "execution_count": 13,
   "metadata": {},
   "outputs": [],
   "source": [
    "from sklearn.metrics import precision_recall_curve, accuracy_score\n",
    "from sklearn.metrics import confusion_matrix\n",
    "from sklearn.metrics import f1_score\n",
    "\n",
    "def evaluate(actual, predicted):\n",
    "    c_m = confusion_matrix(actual, predicted)\n",
    "    tn, fp, fn, tp = c_m.ravel()\n",
    "    print(\"Accuracy: \", accuracy_score(actual, predicted))\n",
    "    print(\"Confusion Matrix: \", c_m)\n",
    "    print(\"F1: \", f1_score(actual, predicted))\n",
    "    print(\"False positive rate: \", fp/(fp+tp))\n",
    "    print(\"False negative rate: \", fn/(fn+tn))\n",
    "    print(\"Precision (positive predictive value): \", tp/(tp+fp))\n",
    "    print(\"Recall (true positive rate): \", tp/(tp+fn))\n",
    "    print()"
   ]
  },
  {
   "cell_type": "markdown",
   "metadata": {},
   "source": [
    "## Logistic Regression"
   ]
  },
  {
   "cell_type": "markdown",
   "metadata": {},
   "source": [
    "I first trained logisitic regression with no changes to the parameters and noticed a really good recall. This could potentially be used to build an ensemble classifier. I experimented with GridSearchCV but ended up manually tuning the parameters myself."
   ]
  },
  {
   "cell_type": "code",
   "execution_count": 14,
   "metadata": {},
   "outputs": [
    {
     "data": {
      "text/plain": [
       "LogisticRegression(C=0.001, class_weight='balanced', dual=False,\n",
       "          fit_intercept=True, intercept_scaling=1, max_iter=100,\n",
       "          multi_class='warn', n_jobs=None, penalty='l1', random_state=1,\n",
       "          solver='liblinear', tol=0.0001, verbose=0, warm_start=False)"
      ]
     },
     "execution_count": 14,
     "metadata": {},
     "output_type": "execute_result"
    }
   ],
   "source": [
    "# Logistic regression optimizing recall\n",
    "from sklearn.linear_model import LogisticRegression\n",
    "lr_recall = LogisticRegression(random_state = 1,solver = 'liblinear', class_weight = 'balanced', penalty = 'l1', C=0.001)\n",
    "lr_recall.fit(X_train,y_train)"
   ]
  },
  {
   "cell_type": "code",
   "execution_count": 15,
   "metadata": {},
   "outputs": [
    {
     "name": "stdout",
     "output_type": "stream",
     "text": [
      "Accuracy:  0.9779853235490327\n",
      "Confusion Matrix:  [[27809   623]\n",
      " [    4    45]]\n",
      "F1:  0.12552301255230125\n",
      "False positive rate:  0.9326347305389222\n",
      "False negative rate:  0.00014381763923345197\n",
      "Precision (positive predictive value):  0.06736526946107785\n",
      "Recall (true positive rate):  0.9183673469387755\n",
      "\n"
     ]
    }
   ],
   "source": [
    "pred_log = lr_recall.predict(X_valid)\n",
    "pred_log_block = lr_recall.predict(X_tBlock)\n",
    "\n",
    "evaluate(y_valid,pred_log)\n",
    "\n",
    "lr_rct, lr_prt, lr_tt = precision_recall_curve(y_tBlock,pred_log_block)\n",
    "#lr_rc, lr_pr, lr_t = precision_recall_curve(y_valid,pred_log)"
   ]
  },
  {
   "cell_type": "code",
   "execution_count": 16,
   "metadata": {
    "scrolled": false
   },
   "outputs": [
    {
     "data": {
      "text/plain": [
       "LogisticRegression(C=1e-07, class_weight=None, dual=False, fit_intercept=True,\n",
       "          intercept_scaling=1, max_iter=100, multi_class='warn',\n",
       "          n_jobs=None, penalty='l2', random_state=1, solver='lbfgs',\n",
       "          tol=0.0001, verbose=0, warm_start=False)"
      ]
     },
     "execution_count": 16,
     "metadata": {},
     "output_type": "execute_result"
    }
   ],
   "source": [
    "# Optimizing F1 score\n",
    "lr = LogisticRegression(random_state=1, solver='lbfgs', C = 0.0000001)\n",
    "lr.fit(X_train_osr,y_train_osr)"
   ]
  },
  {
   "cell_type": "code",
   "execution_count": 17,
   "metadata": {
    "scrolled": false
   },
   "outputs": [
    {
     "name": "stdout",
     "output_type": "stream",
     "text": [
      "Accuracy:  0.9994733330992591\n",
      "Confusion Matrix:  [[28427     5]\n",
      " [   10    39]]\n",
      "F1:  0.8387096774193548\n",
      "False positive rate:  0.11363636363636363\n",
      "False negative rate:  0.0003516545345852235\n",
      "Precision (positive predictive value):  0.8863636363636364\n",
      "Recall (true positive rate):  0.7959183673469388\n",
      "\n"
     ]
    }
   ],
   "source": [
    "lr_pred_F1 = lr.predict(X_valid)\n",
    "evaluate(y_valid,lr_pred_F1)"
   ]
  },
  {
   "cell_type": "markdown",
   "metadata": {},
   "source": [
    "Seems like were capped at an F1 score of 84. Let's try other models."
   ]
  },
  {
   "cell_type": "markdown",
   "metadata": {},
   "source": [
    "## Random Forest"
   ]
  },
  {
   "cell_type": "code",
   "execution_count": 18,
   "metadata": {},
   "outputs": [
    {
     "data": {
      "text/plain": [
       "RandomForestClassifier(bootstrap=True, class_weight=None, criterion='gini',\n",
       "            max_depth=None, max_features=3, max_leaf_nodes=None,\n",
       "            min_impurity_decrease=0.0, min_impurity_split=None,\n",
       "            min_samples_leaf=1, min_samples_split=2,\n",
       "            min_weight_fraction_leaf=0.0, n_estimators=200, n_jobs=-1,\n",
       "            oob_score=True, random_state=None, verbose=0, warm_start=False)"
      ]
     },
     "execution_count": 18,
     "metadata": {},
     "output_type": "execute_result"
    }
   ],
   "source": [
    "# Since there aren't many parameters to tune, I manually tune them.\n",
    "from sklearn.ensemble import RandomForestClassifier\n",
    "model2 = RandomForestClassifier(n_estimators=200, \n",
    "                              n_jobs=-1,\n",
    "                              oob_score=True,max_features = 3)\n",
    "model2.fit(X_train, y_train)"
   ]
  },
  {
   "cell_type": "code",
   "execution_count": 19,
   "metadata": {},
   "outputs": [
    {
     "name": "stdout",
     "output_type": "stream",
     "text": [
      "Accuracy:  0.9996488887328394\n",
      "Confusion Matrix:  [[28431     1]\n",
      " [    9    40]]\n",
      "F1:  0.888888888888889\n",
      "False positive rate:  0.024390243902439025\n",
      "False negative rate:  0.00031645569620253165\n",
      "Precision (positive predictive value):  0.975609756097561\n",
      "Recall (true positive rate):  0.8163265306122449\n",
      "\n"
     ]
    }
   ],
   "source": [
    "pred_rf = model2.predict(X_valid)\n",
    "pred_rf_block = model2.predict(X_tBlock)\n",
    "evaluate(y_valid, pred_rf)\n",
    "#rf_rc, rf_pr, rf_t = precision_recall_curve(y_valid, pred_rf)\n",
    "rf_rct, rf_prt, rf_tt = precision_recall_curve(y_tBlock, pred_rf_block)"
   ]
  },
  {
   "cell_type": "markdown",
   "metadata": {},
   "source": [
    "## XGB"
   ]
  },
  {
   "cell_type": "code",
   "execution_count": 20,
   "metadata": {},
   "outputs": [],
   "source": [
    "import xgboost as xgb\n",
    "\n",
    "xgb_model = xgb.XGBClassifier(gamma = 0.5, n_jobs = -1, n_estimators = 200)\n",
    "xgb_model.fit(X_train, y_train)\n",
    "y_pred = xgb_model.predict(X_valid)\n",
    "y_score = xgb_model.predict_proba(X_valid)[:,1]"
   ]
  },
  {
   "cell_type": "code",
   "execution_count": 21,
   "metadata": {},
   "outputs": [
    {
     "name": "stdout",
     "output_type": "stream",
     "text": [
      "Accuracy:  0.9996488887328394\n",
      "Confusion Matrix:  [[28430     2]\n",
      " [    8    41]]\n",
      "F1:  0.8913043478260869\n",
      "False positive rate:  0.046511627906976744\n",
      "False negative rate:  0.00028131373514311836\n",
      "Precision (positive predictive value):  0.9534883720930233\n",
      "Recall (true positive rate):  0.8367346938775511\n",
      "\n"
     ]
    }
   ],
   "source": [
    "pred_xgb = xgb_model.predict(X_valid)\n",
    "pred_xgb_tBlock = xgb_model.predict(X_tBlock)\n",
    "evaluate(y_valid, pred_xgb)\n",
    "#xgb_rc, xgb_pr, xgb_t = precision_recall_curve(y_valid, pred_xgb)\n",
    "xgb_rct, xgb_prt, xgb_tt = precision_recall_curve(y_tBlock, pred_xgb_tBlock)"
   ]
  },
  {
   "cell_type": "markdown",
   "metadata": {},
   "source": [
    "## Voting Classifier Experimentation"
   ]
  },
  {
   "cell_type": "code",
   "execution_count": 22,
   "metadata": {},
   "outputs": [
    {
     "data": {
      "text/plain": [
       "VotingClassifier(estimators=[('lt', LogisticRegression(C=1e-07, class_weight=None, dual=False, fit_intercept=True,\n",
       "          intercept_scaling=1, max_iter=100, multi_class='warn',\n",
       "          n_jobs=None, penalty='l2', random_state=1, solver='lbfgs',\n",
       "          tol=0.0001, verbose=0, warm_start=False)), ('rf', RandomFo...tate=0, reg_alpha=0, reg_lambda=1, scale_pos_weight=1,\n",
       "       seed=None, silent=True, subsample=1))],\n",
       "         flatten_transform=None, n_jobs=None, voting='soft',\n",
       "         weights=[1, 1, 1])"
      ]
     },
     "execution_count": 22,
     "metadata": {},
     "output_type": "execute_result"
    }
   ],
   "source": [
    "#Voting Classifier\n",
    "from sklearn.ensemble import VotingClassifier\n",
    "voting_model = VotingClassifier (\n",
    "        estimators = [('lt', lr), ('rf', model2), ('xgb',xgb_model)],\n",
    "                     voting='soft', weights = [1, 1, 1])\n",
    "    \n",
    "voting_model.fit(X_train,y_train)"
   ]
  },
  {
   "cell_type": "code",
   "execution_count": 23,
   "metadata": {},
   "outputs": [
    {
     "name": "stdout",
     "output_type": "stream",
     "text": [
      "Accuracy:  0.9996488887328394\n",
      "Confusion Matrix:  [[28432     0]\n",
      " [   10    39]]\n",
      "F1:  0.8863636363636364\n",
      "False positive rate:  0.0\n",
      "False negative rate:  0.0003515927149989452\n",
      "Precision (positive predictive value):  1.0\n",
      "Recall (true positive rate):  0.7959183673469388\n",
      "\n"
     ]
    }
   ],
   "source": [
    "pred_voting = voting_model.predict(X_valid)\n",
    "pred_voting_tBlock = voting_model.predict(X_tBlock)\n",
    "y_score = voting_model.predict_proba(X_valid)[:,1]\n",
    "evaluate(y_valid, pred_voting)\n",
    "#vo_rc, vo_pr, vo_t = precision_recall_curve(y_valid, pred_voting)\n",
    "vo_rct, vo_prt, vo_tt = precision_recall_curve(y_tBlock, pred_voting_tBlock)"
   ]
  },
  {
   "cell_type": "markdown",
   "metadata": {},
   "source": [
    "## Summary and Data Visualization"
   ]
  },
  {
   "cell_type": "code",
   "execution_count": 24,
   "metadata": {},
   "outputs": [],
   "source": [
    "def prec_recall_all_models () :\n",
    "    plt.figure(figsize=(16, 12))\n",
    "    plt.plot(rf_rct, rf_prt, linewidth = 2)\n",
    "    plt.plot(xgb_rct, xgb_prt, linewidth = 2)\n",
    "    plt.plot(lr_rct, lr_prt, linewidth = 2)\n",
    "    plt.plot(vo_rct, vo_prt, linewidth = 2)\n",
    "    plt.xlim([0.0,1])\n",
    "    plt.ylim([0.0,1.05])\n",
    "    plt.xlabel('Recall')\n",
    "    plt.ylabel('Precision')\n",
    "    plt.title('Precision Recall Curve - PR = 0.937 - REC = 0.831 - F1 = 881 ')\n",
    "    plt.legend(['Rnd', 'Xgb', 'Log', 'Voting'], loc='upper right')\n",
    "    plt.savefig('7.prec_recc.png')\n",
    "    plt.show();"
   ]
  },
  {
   "cell_type": "code",
   "execution_count": 25,
   "metadata": {},
   "outputs": [
    {
     "data": {
      "image/png": "[encoded data removed]",
      "text/plain": [
       "<Figure size 1152x864 with 1 Axes>"
      ]
     },
     "metadata": {
      "needs_background": "light"
     },
     "output_type": "display_data"
    }
   ],
   "source": [
    "prec_recall_all_models () "
   ]
  },
  {
   "cell_type": "code",
   "execution_count": 38,
   "metadata": {},
   "outputs": [
    {
     "name": "stdout",
     "output_type": "stream",
     "text": [
      "Accuracy:  0.9996488887328394\n",
      "Confusion Matrix:  [[28432     0]\n",
      " [   10    39]]\n",
      "F1:  0.8863636363636364\n",
      "False positive rate:  0.0\n",
      "False negative rate:  0.0003515927149989452\n",
      "Precision (positive predictive value):  1.0\n",
      "Recall (true positive rate):  0.7959183673469388\n",
      "\n"
     ]
    }
   ],
   "source": [
    "pred_xgb = xgb_model.predict(X_test)\n",
    "evaluate(y_test,pred_xgb)"
   ]
  },
  {
   "cell_type": "markdown",
   "metadata": {},
   "source": [
    "Better to choose the model with the lowest false negative rate. It's better to have false alarms than to let fraudulent transactions through. Seems like XGB is the way to go (for now)."
   ]
  }
 ],
 "metadata": {
  "kernelspec": {
   "display_name": "Python 3",
   "language": "python",
   "name": "python3"
  },
  "language_info": {
   "codemirror_mode": {
    "name": "ipython",
    "version": 3
   },
   "file_extension": ".py",
   "mimetype": "text/x-python",
   "name": "python",
   "nbconvert_exporter": "python",
   "pygments_lexer": "ipython3",
   "version": "3.6.6"
  }
 },
 "nbformat": 4,
 "nbformat_minor": 2
}
